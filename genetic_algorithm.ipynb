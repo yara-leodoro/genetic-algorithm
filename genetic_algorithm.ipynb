{
 "cells": [
  {
   "cell_type": "markdown",
   "metadata": {},
   "source": [
    "<center><h1><b>Algoritmo Genético</b><h1></center>"
   ]
  },
  {
   "cell_type": "markdown",
   "metadata": {},
   "source": [
    "O primeiro passo é criar uma população de bitstrings aleatórias.\n",
    "\n",
    "Poderíamos usar valores booleanos True e False, valores de string \"0\" e \"1\", ou valores inteiros 0 e 1.\n",
    "\n",
    "Neste caso, usaremos valores inteiros."
   ]
  },
  {
   "cell_type": "code",
   "execution_count": 37,
   "metadata": {},
   "outputs": [
    {
     "data": {
      "text/plain": [
       "[[0, 1, 1, 1, 0, 0, 1, 0, 0, 0, 1, 0, 0, 0, 1, 0],\n",
       " [0, 0, 0, 1, 1, 1, 1, 0, 1, 1, 1, 1, 1, 0, 1, 0],\n",
       " [1, 0, 0, 1, 1, 0, 1, 0, 1, 1, 1, 1, 1, 1, 0, 0],\n",
       " [1, 0, 0, 1, 1, 1, 0, 1, 0, 1, 1, 0, 0, 1, 0, 1],\n",
       " [1, 0, 1, 1, 0, 0, 0, 0, 1, 1, 1, 1, 0, 0, 1, 1],\n",
       " [0, 1, 1, 1, 0, 1, 1, 0, 0, 0, 0, 1, 0, 0, 0, 0],\n",
       " [1, 1, 0, 1, 0, 0, 0, 0, 1, 0, 1, 1, 0, 1, 0, 1],\n",
       " [1, 0, 1, 0, 0, 1, 1, 0, 0, 0, 0, 0, 0, 0, 0, 0],\n",
       " [0, 0, 0, 0, 0, 0, 0, 1, 1, 0, 0, 0, 0, 0, 1, 0],\n",
       " [1, 0, 0, 0, 0, 0, 0, 0, 0, 0, 1, 1, 1, 0, 0, 0]]"
      ]
     },
     "execution_count": 37,
     "metadata": {},
     "output_type": "execute_result"
    }
   ],
   "source": [
    "from numpy.random import randint\n",
    "\n",
    "# bits\n",
    "n_bits = 16\n",
    "# define o tamanho da população\n",
    "n_pop = 10\n",
    "\n",
    "# população inicial de bitstring aleatórias\n",
    "pop = [randint(0, 2, n_bits).tolist() for _ in range(n_pop)]\n",
    "\n",
    "pop"
   ]
  },
  {
   "cell_type": "markdown",
   "metadata": {},
   "source": [
    "Em seguida, podemos enumerar um número fixo de iterações do algoritmo, neste caso, controlado por um hiperparâmetro chamado “n_iter“."
   ]
  },
  {
   "cell_type": "code",
   "execution_count": 54,
   "metadata": {},
   "outputs": [
    {
     "name": "stdout",
     "output_type": "stream",
     "text": [
      "Geração 1\n",
      "Geração 2\n",
      "Geração 3\n",
      "Geração 4\n",
      "Geração 5\n",
      "Geração 6\n",
      "Geração 7\n",
      "Geração 8\n",
      "Geração 9\n",
      "Geração 10\n"
     ]
    }
   ],
   "source": [
    "# define o número total de iterações\n",
    "n_iter = 10\n",
    "\n",
    "# enumera as gerações\n",
    "for gen in range(n_iter):\n",
    "    # escreve a geração atual\n",
    "    print(f\"Geração {gen+1}\")"
   ]
  },
  {
   "cell_type": "markdown",
   "metadata": {},
   "source": [
    "O primeiro passo na iteração do algoritmo é avaliar todas as soluções candidatas.\n",
    "\n",
    "Usaremos uma função chamada objective() como uma função objetivo genérica e a chamaremos para obter uma pontuação de aptidão, que minimizaremos."
   ]
  },
  {
   "cell_type": "code",
   "execution_count": 48,
   "metadata": {},
   "outputs": [],
   "source": [
    "# Avalia o fitness de todas as soluções na população\n",
    "scores = [objective(c) for c in pop]"
   ]
  },
  {
   "cell_type": "markdown",
   "metadata": {},
   "source": [
    "Podemos então selecionar os pais que serão usados ​​para criar os filhos.\n",
    "\n",
    "O procedimento de seleção de torneio pode ser implementado como uma função que pega a população e retorna um pai selecionado.\n",
    "\n",
    "O valor k é fixado em 3 com um argumento padrão, mas você pode experimentar com valores diferentes se quiser."
   ]
  },
  {
   "cell_type": "code",
   "execution_count": 45,
   "metadata": {},
   "outputs": [],
   "source": [
    "# seleção por torneio\n",
    "def selection(pop, scores, k=3):\n",
    "\t# primeira seleção aleatória\n",
    "\tselection_ix = randint(len(pop))\n",
    "\tfor ix in randint(0, len(pop), k-1):\n",
    "\t\t# checa se é melhor (ex. performa um torneio)\n",
    "\t\tif scores[ix] < scores[selection_ix]:\n",
    "\t\t\tselection_ix = ix\n",
    "\treturn pop[selection_ix]"
   ]
  },
  {
   "cell_type": "markdown",
   "metadata": {},
   "source": [
    "Podemos então chamar essa função uma vez para cada posição na população para criar uma lista de pais."
   ]
  },
  {
   "cell_type": "code",
   "execution_count": 49,
   "metadata": {},
   "outputs": [],
   "source": [
    "# seleciona os pais\n",
    "selected = [selection(pop, scores) for _ in range(n_pop)]"
   ]
  },
  {
   "cell_type": "markdown",
   "metadata": {},
   "source": [
    "Podemos então criar a próxima geração.\n",
    "\n",
    "Isso primeiro requer uma função para executar o crossover. Esta função pegará dois pais e a taxa de crossover. A taxa de crossover é um hiperparâmetro que determina se o crossover é executado ou não, e se não, os pais são copiados para a próxima geração. É uma probabilidade e normalmente tem um valor grande próximo a 1,0.\n",
    "\n",
    "A função crossover() abaixo implementa o crossover usando um sorteio de um número aleatório no intervalo [0,1] para determinar se o crossover é executado, então selecionando um ponto de divisão válido se o crossover for executado."
   ]
  },
  {
   "cell_type": "code",
   "execution_count": 33,
   "metadata": {},
   "outputs": [],
   "source": [
    "from numpy.random import rand\n",
    "\n",
    "# crossover entre dois pais para criar dois filhos\n",
    "def crossover(p1, p2, r_cross):\n",
    "\t# filhos são cópias dos pais por padrão\n",
    "\tc1, c2 = p1.copy(), p2.copy()\n",
    "\t# checagem para a recombinação\n",
    "\tif rand() < r_cross:\n",
    "\t\t# seleciona o ponto de crossover excluindo o final da string\n",
    "\t\tpt = randint(1, len(p1)-2)\n",
    "\t\t# performa o crossover\n",
    "\t\tc1 = p1[:pt] + p2[pt:]\n",
    "\t\tc2 = p2[:pt] + p1[pt:]\n",
    "\treturn [c1, c2]"
   ]
  },
  {
   "cell_type": "markdown",
   "metadata": {},
   "source": [
    "Também precisamos de uma função para executar mutação.\n",
    "\n",
    "Este procedimento simplesmente inverte bits com uma probabilidade baixa controlada pelo hiperparâmetro “r_mut”."
   ]
  },
  {
   "cell_type": "code",
   "execution_count": null,
   "metadata": {},
   "outputs": [],
   "source": [
    "# operador de mutação\n",
    "def mutation(bitstring, r_mut):\n",
    "\tfor i in range(len(bitstring)):\n",
    "\t\t# checagem para a mutação\n",
    "\t\tif rand() < r_mut:\n",
    "\t\t\t# troca o bit\n",
    "\t\t\tbitstring[i] = 1 - bitstring[i]"
   ]
  },
  {
   "cell_type": "markdown",
   "metadata": {},
   "source": [
    "Podemos então percorrer a lista de pais e criar uma lista de filhos para serem usados ​​como a próxima geração, chamando as funções de cruzamento e mutação conforme necessário."
   ]
  },
  {
   "cell_type": "code",
   "execution_count": 14,
   "metadata": {},
   "outputs": [],
   "source": [
    "# taxa de crossover\n",
    "r_cross = 0.9\n",
    "# taxa de mutação\n",
    "r_mut = 1.0 / float(n_bits)\n",
    "\n",
    "# cria a próxima geração\n",
    "children = list()\n",
    "for i in range(0, n_pop, 2):\n",
    "\t# obtem os pais selecionados em pares\n",
    "\tp1, p2 = selected[i], selected[i+1]\n",
    "\t# crossover e mutação\n",
    "\tfor c in crossover(p1, p2, r_cross):\n",
    "\t\t# mutação\n",
    "\t\tmutation(c, r_mut)\n",
    "\t\t# armazena para a próxima geração\n",
    "\t\tchildren.append(c)"
   ]
  },
  {
   "cell_type": "markdown",
   "metadata": {},
   "source": [
    "Podemos unir tudo isso em uma função chamada genetic_algorithm() que pega o nome da função objetivo e os hiperparâmetros da pesquisa e retorna a melhor solução encontrada durante a pesquisa."
   ]
  },
  {
   "cell_type": "code",
   "execution_count": 47,
   "metadata": {},
   "outputs": [],
   "source": [
    "# algoritmo genético\n",
    "def genetic_algorithm(objective, n_bits, n_iter, n_pop, r_cross, r_mut):\n",
    "\t# initial population of random bitstring\n",
    "\tpop = [randint(0, 2, n_bits).tolist() for _ in range(n_pop)]\n",
    "\t# keep track of best solution\n",
    "\tbest, best_eval = 0, objective(pop[0])\n",
    "\t# enumerate generations\n",
    "\tfor gen in range(n_iter):\n",
    "\t\t# evaluate all candidates in the population\n",
    "\t\tscores = [objective(c) for c in pop]\n",
    "\t\t# check for new best solution\n",
    "\t\tfor i in range(n_pop):\n",
    "\t\t\tif scores[i] < best_eval:\n",
    "\t\t\t\tbest, best_eval = pop[i], scores[i]\n",
    "\t\t\t\tprint(\">%d, new best f(%s) = %.3f\" % (gen,  pop[i], scores[i]))\n",
    "\t\t# select parents\n",
    "\t\tselected = [selection(pop, scores) for _ in range(n_pop)]\n",
    "\t\t# create the next generation\n",
    "\t\tchildren = list()\n",
    "\t\tfor i in range(0, n_pop, 2):\n",
    "\t\t\t# get selected parents in pairs\n",
    "\t\t\tp1, p2 = selected[i], selected[i+1]\n",
    "\t\t\t# crossover and mutation\n",
    "\t\t\tfor c in crossover(p1, p2, r_cross):\n",
    "\t\t\t\t# mutation\n",
    "\t\t\t\tmutation(c, r_mut)\n",
    "\t\t\t\t# store for next generation\n",
    "\t\t\t\tchildren.append(c)\n",
    "\t\t# replace population\n",
    "\t\tpop = children\n",
    "\treturn [best, best_eval]"
   ]
  },
  {
   "cell_type": "markdown",
   "metadata": {},
   "source": [
    "<center><h2><b>Genetic Algorithm for OneMax</b></h2></center>"
   ]
  },
  {
   "cell_type": "markdown",
   "metadata": {},
   "source": [
    "Nesta seção, aplicaremos o algoritmo genético a um problema de otimização baseado em string binária.\n",
    "\n",
    "O problema é chamado OneMax e avalia uma string binária com base no número de 1s na string. Por exemplo, uma bitstring com um comprimento de 20 bits terá uma pontuação de 20 para uma string de todos os 1s.\n",
    "\n",
    "Dado que implementamos o algoritmo genético para minimizar a função objetivo, podemos adicionar um sinal negativo a essa avaliação para que grandes valores positivos se tornem grandes valores negativos.\n",
    "\n",
    "A função onemax() abaixo implementa isso e pega uma bitstring de valores inteiros como entrada e retorna a soma negativa dos valores."
   ]
  },
  {
   "cell_type": "code",
   "execution_count": 50,
   "metadata": {},
   "outputs": [],
   "source": [
    "# objective function\n",
    "def onemax(x):\n",
    "\treturn -sum(x)"
   ]
  },
  {
   "cell_type": "markdown",
   "metadata": {},
   "source": [
    "Em seguida, podemos configurar a busca.\n",
    "\n",
    "A pesquisa será executada por 100 iterações e usaremos 20 bits em nossas soluções candidatas, o que significa que a aptidão ótima será -20,0.\n",
    "\n",
    "O tamanho da população será 100, e usaremos uma taxa de cruzamento de 90 por cento e uma taxa de mutação de 5 por cento. Esta configuração foi escolhida após um pouco de tentativa e erro."
   ]
  },
  {
   "cell_type": "code",
   "execution_count": null,
   "metadata": {},
   "outputs": [],
   "source": [
    "...\n",
    "# define the total iterations\n",
    "n_iter = 100\n",
    "# bits\n",
    "n_bits = 20\n",
    "# define the population size\n",
    "n_pop = 100\n",
    "# crossover rate\n",
    "r_cross = 0.9\n",
    "# mutation rate\n",
    "r_mut = 1.0 / float(n_bits)"
   ]
  },
  {
   "cell_type": "markdown",
   "metadata": {},
   "source": [
    "Ligando tudo isso, o exemplo completo da aplicação do algoritmo genético à função objetivo OneMax está listado abaixo."
   ]
  },
  {
   "cell_type": "code",
   "execution_count": 51,
   "metadata": {},
   "outputs": [
    {
     "name": "stdout",
     "output_type": "stream",
     "text": [
      ">0, new best f([0, 1, 0, 0, 0, 1, 0, 1, 1, 1, 1, 1, 1, 1, 0, 0, 1, 1, 1, 1]) = -13.000\n",
      ">0, new best f([1, 0, 0, 1, 0, 1, 0, 1, 1, 1, 1, 1, 0, 0, 1, 1, 1, 1, 1, 1]) = -14.000\n",
      ">1, new best f([1, 1, 1, 1, 0, 1, 0, 1, 1, 1, 0, 1, 1, 1, 1, 0, 0, 1, 1, 1]) = -15.000\n",
      ">1, new best f([1, 1, 1, 1, 1, 1, 1, 0, 0, 1, 1, 1, 1, 0, 1, 0, 1, 1, 1, 1]) = -16.000\n",
      ">3, new best f([1, 1, 1, 1, 1, 1, 1, 1, 0, 1, 1, 1, 1, 1, 1, 1, 1, 1, 1, 0]) = -18.000\n",
      ">5, new best f([1, 0, 1, 1, 1, 1, 1, 1, 1, 1, 1, 1, 1, 1, 1, 1, 1, 1, 1, 1]) = -19.000\n",
      ">8, new best f([1, 1, 1, 1, 1, 1, 1, 1, 1, 1, 1, 1, 1, 1, 1, 1, 1, 1, 1, 1]) = -20.000\n",
      "Done!\n",
      "f([1, 1, 1, 1, 1, 1, 1, 1, 1, 1, 1, 1, 1, 1, 1, 1, 1, 1, 1, 1]) = -20.000000\n"
     ]
    }
   ],
   "source": [
    "# genetic algorithm search of the one max optimization problem\n",
    "from numpy.random import randint\n",
    "from numpy.random import rand\n",
    "\n",
    "# objective function\n",
    "def onemax(x):\n",
    "\treturn -sum(x)\n",
    "\n",
    "# tournament selection\n",
    "def selection(pop, scores, k=3):\n",
    "\t# first random selection\n",
    "\tselection_ix = randint(len(pop))\n",
    "\tfor ix in randint(0, len(pop), k-1):\n",
    "\t\t# check if better (e.g. perform a tournament)\n",
    "\t\tif scores[ix] < scores[selection_ix]:\n",
    "\t\t\tselection_ix = ix\n",
    "\treturn pop[selection_ix]\n",
    "\n",
    "# crossover two parents to create two children\n",
    "def crossover(p1, p2, r_cross):\n",
    "\t# children are copies of parents by default\n",
    "\tc1, c2 = p1.copy(), p2.copy()\n",
    "\t# check for recombination\n",
    "\tif rand() < r_cross:\n",
    "\t\t# select crossover point that is not on the end of the string\n",
    "\t\tpt = randint(1, len(p1)-2)\n",
    "\t\t# perform crossover\n",
    "\t\tc1 = p1[:pt] + p2[pt:]\n",
    "\t\tc2 = p2[:pt] + p1[pt:]\n",
    "\treturn [c1, c2]\n",
    "\n",
    "# mutation operator\n",
    "def mutation(bitstring, r_mut):\n",
    "\tfor i in range(len(bitstring)):\n",
    "\t\t# check for a mutation\n",
    "\t\tif rand() < r_mut:\n",
    "\t\t\t# flip the bit\n",
    "\t\t\tbitstring[i] = 1 - bitstring[i]\n",
    "\n",
    "# genetic algorithm\n",
    "def genetic_algorithm(objective, n_bits, n_iter, n_pop, r_cross, r_mut):\n",
    "\t# initial population of random bitstring\n",
    "\tpop = [randint(0, 2, n_bits).tolist() for _ in range(n_pop)]\n",
    "\t# keep track of best solution\n",
    "\tbest, best_eval = 0, objective(pop[0])\n",
    "\t# enumerate generations\n",
    "\tfor gen in range(n_iter):\n",
    "\t\t# evaluate all candidates in the population\n",
    "\t\tscores = [objective(c) for c in pop]\n",
    "\t\t# check for new best solution\n",
    "\t\tfor i in range(n_pop):\n",
    "\t\t\tif scores[i] < best_eval:\n",
    "\t\t\t\tbest, best_eval = pop[i], scores[i]\n",
    "\t\t\t\tprint(\">%d, new best f(%s) = %.3f\" % (gen,  pop[i], scores[i]))\n",
    "\t\t# select parents\n",
    "\t\tselected = [selection(pop, scores) for _ in range(n_pop)]\n",
    "\t\t# create the next generation\n",
    "\t\tchildren = list()\n",
    "\t\tfor i in range(0, n_pop, 2):\n",
    "\t\t\t# get selected parents in pairs\n",
    "\t\t\tp1, p2 = selected[i], selected[i+1]\n",
    "\t\t\t# crossover and mutation\n",
    "\t\t\tfor c in crossover(p1, p2, r_cross):\n",
    "\t\t\t\t# mutation\n",
    "\t\t\t\tmutation(c, r_mut)\n",
    "\t\t\t\t# store for next generation\n",
    "\t\t\t\tchildren.append(c)\n",
    "\t\t# replace population\n",
    "\t\tpop = children\n",
    "\treturn [best, best_eval]\n",
    "\n",
    "# define the total iterations\n",
    "n_iter = 100\n",
    "# bits\n",
    "n_bits = 20\n",
    "# define the population size\n",
    "n_pop = 100\n",
    "# crossover rate\n",
    "r_cross = 0.9\n",
    "# mutation rate\n",
    "r_mut = 1.0 / float(n_bits)\n",
    "# perform the genetic algorithm search\n",
    "best, score = genetic_algorithm(onemax, n_bits, n_iter, n_pop, r_cross, r_mut)\n",
    "print('Done!')\n",
    "print('f(%s) = %f' % (best, score))"
   ]
  },
  {
   "cell_type": "markdown",
   "metadata": {},
   "source": [
    "<center><h2><b>Genetic Algorithm for Continuous Function Optimization</b><h2></center>"
   ]
  },
  {
   "cell_type": "markdown",
   "metadata": {},
   "source": [
    "Otimizar a função OneMax não é muito interessante; é mais provável que queiramos otimizar uma função contínua.\n",
    "\n",
    "Por exemplo, podemos definir a função de minimização x^2 que pega variáveis ​​de entrada e tem um ótimo em f(0, 0) = 0,0."
   ]
  },
  {
   "cell_type": "code",
   "execution_count": 52,
   "metadata": {},
   "outputs": [],
   "source": [
    "# objective function\n",
    "def objective(x):\n",
    "\treturn x[0]**2.0 + x[1]**2.0"
   ]
  },
  {
   "cell_type": "markdown",
   "metadata": {},
   "source": [
    "Podemos minimizar essa função com um algoritmo genético.\n",
    "\n",
    "Primeiro, precisamos definir os limites de cada variável de entrada."
   ]
  },
  {
   "cell_type": "code",
   "execution_count": null,
   "metadata": {},
   "outputs": [],
   "source": [
    "...\n",
    "# define range for input\n",
    "bounds = [[-5.0, 5.0], [-5.0, 5.0]]"
   ]
  },
  {
   "cell_type": "markdown",
   "metadata": {},
   "source": [
    "Tomaremos o hiperparâmetro “n_bits” como um número de bits por variável de entrada para a função objetivo e o definiremos como 16 bits."
   ]
  },
  {
   "cell_type": "code",
   "execution_count": null,
   "metadata": {},
   "outputs": [],
   "source": [
    "...\n",
    "# bits per variable\n",
    "n_bits = 16"
   ]
  },
  {
   "cell_type": "markdown",
   "metadata": {},
   "source": [
    "Isso significa que nossa sequência de bits real terá (16 * 2) = 32 bits, dadas as duas variáveis ​​de entrada.\n",
    "\n",
    "Devemos atualizar nossa taxa de mutação de acordo."
   ]
  },
  {
   "cell_type": "code",
   "execution_count": null,
   "metadata": {},
   "outputs": [],
   "source": [
    "...\n",
    "# mutation rate\n",
    "r_mut = 1.0 / (float(n_bits) * len(bounds))"
   ]
  },
  {
   "cell_type": "markdown",
   "metadata": {},
   "source": [
    "Em seguida, precisamos garantir que a população inicial crie sequências de bits aleatórias que sejam grandes o suficiente."
   ]
  },
  {
   "cell_type": "code",
   "execution_count": null,
   "metadata": {},
   "outputs": [],
   "source": [
    "...\n",
    "# initial population of random bitstring\n",
    "pop = [randint(0, 2, n_bits*len(bounds)).tolist() for _ in range(n_pop)]"
   ]
  },
  {
   "cell_type": "markdown",
   "metadata": {},
   "source": [
    "Por fim, precisamos decodificar as bitstrings para números antes de avaliar cada uma com a função objetivo.\n",
    "\n",
    "Podemos conseguir isso primeiro decodificando cada substring para um inteiro, depois escalando o inteiro para o intervalo desejado. Isso dará um vetor de valores no intervalo que pode então ser fornecido para a função objetivo para avaliação.\n",
    "\n",
    "A função decode() abaixo implementa isso, pegando os limites da função, o número de bits por variável e uma bitstring como entrada e retorna uma lista de valores reais decodificados."
   ]
  },
  {
   "cell_type": "code",
   "execution_count": null,
   "metadata": {},
   "outputs": [],
   "source": [
    "# decode bitstring to numbers\n",
    "def decode(bounds, n_bits, bitstring):\n",
    "\tdecoded = list()\n",
    "\tlargest = 2**n_bits\n",
    "\tfor i in range(len(bounds)):\n",
    "\t\t# extract the substring\n",
    "\t\tstart, end = i * n_bits, (i * n_bits)+n_bits\n",
    "\t\tsubstring = bitstring[start:end]\n",
    "\t\t# convert bitstring to a string of chars\n",
    "\t\tchars = ''.join([str(s) for s in substring])\n",
    "\t\t# convert string to integer\n",
    "\t\tinteger = int(chars, 2)\n",
    "\t\t# scale integer to desired range\n",
    "\t\tvalue = bounds[i][0] + (integer/largest) * (bounds[i][1] - bounds[i][0])\n",
    "\t\t# store\n",
    "\t\tdecoded.append(value)\n",
    "\treturn decoded"
   ]
  },
  {
   "cell_type": "markdown",
   "metadata": {},
   "source": [
    "Podemos então chamar isso no início do loop do algoritmo para decodificar a população e, então, avaliar a versão decodificada da população."
   ]
  },
  {
   "cell_type": "code",
   "execution_count": null,
   "metadata": {},
   "outputs": [],
   "source": [
    "...\n",
    "# decode population\n",
    "decoded = [decode(bounds, n_bits, p) for p in pop]\n",
    "# evaluate all candidates in the population\n",
    "scores = [objective(d) for d in decoded]"
   ]
  },
  {
   "cell_type": "markdown",
   "metadata": {},
   "source": [
    "Ligando tudo isso, o exemplo completo do algoritmo genético para otimização de função contínua está listado abaixo."
   ]
  },
  {
   "cell_type": "code",
   "execution_count": 53,
   "metadata": {},
   "outputs": [
    {
     "name": "stdout",
     "output_type": "stream",
     "text": [
      ">0, new best f([4.981689453125, 1.60308837890625]) = 27.387122\n",
      ">0, new best f([-1.647186279296875, 4.1046142578125]) = 19.561081\n",
      ">0, new best f([-4.3408203125, 0.2996826171875]) = 18.932531\n",
      ">0, new best f([3.14422607421875, -1.528778076171875]) = 12.223320\n",
      ">0, new best f([-0.3668212890625, -0.787506103515625]) = 0.754724\n",
      ">0, new best f([-0.00640869140625, -0.577850341796875]) = 0.333952\n",
      ">1, new best f([-0.26397705078125, -0.3192138671875]) = 0.171581\n",
      ">2, new best f([0.083770751953125, 0.2667236328125]) = 0.078159\n",
      ">4, new best f([-0.00640869140625, -0.12542724609375]) = 0.015773\n",
      ">5, new best f([-0.00640869140625, -0.0128173828125]) = 0.000205\n",
      ">12, new best f([-0.00244140625, -0.010833740234375]) = 0.000123\n",
      ">13, new best f([-0.003204345703125, 0.007781982421875]) = 0.000071\n",
      ">16, new best f([-0.00244140625, -0.002593994140625]) = 0.000013\n",
      ">18, new best f([-0.00244140625, -0.001373291015625]) = 0.000008\n",
      ">20, new best f([-0.00244140625, -0.000152587890625]) = 0.000006\n",
      ">20, new best f([-0.00213623046875, -0.00030517578125]) = 0.000005\n",
      ">22, new best f([-0.000152587890625, -0.001678466796875]) = 0.000003\n",
      ">25, new best f([-0.00091552734375, -0.001220703125]) = 0.000002\n",
      ">25, new best f([-0.00030517578125, -0.000152587890625]) = 0.000000\n",
      ">50, new best f([-0.000152587890625, -0.000152587890625]) = 0.000000\n",
      "Done!\n",
      "f([-0.000152587890625, -0.000152587890625]) = 0.000000\n"
     ]
    }
   ],
   "source": [
    "# genetic algorithm search for continuous function optimization\n",
    "from numpy.random import randint\n",
    "from numpy.random import rand\n",
    "\n",
    "# objective function\n",
    "def objective(x):\n",
    "\treturn x[0]**2.0 + x[1]**2.0\n",
    "\n",
    "# decode bitstring to numbers\n",
    "def decode(bounds, n_bits, bitstring):\n",
    "\tdecoded = list()\n",
    "\tlargest = 2**n_bits\n",
    "\tfor i in range(len(bounds)):\n",
    "\t\t# extract the substring\n",
    "\t\tstart, end = i * n_bits, (i * n_bits)+n_bits\n",
    "\t\tsubstring = bitstring[start:end]\n",
    "\t\t# convert bitstring to a string of chars\n",
    "\t\tchars = ''.join([str(s) for s in substring])\n",
    "\t\t# convert string to integer\n",
    "\t\tinteger = int(chars, 2)\n",
    "\t\t# scale integer to desired range\n",
    "\t\tvalue = bounds[i][0] + (integer/largest) * (bounds[i][1] - bounds[i][0])\n",
    "\t\t# store\n",
    "\t\tdecoded.append(value)\n",
    "\treturn decoded\n",
    "\n",
    "# tournament selection\n",
    "def selection(pop, scores, k=3):\n",
    "\t# first random selection\n",
    "\tselection_ix = randint(len(pop))\n",
    "\tfor ix in randint(0, len(pop), k-1):\n",
    "\t\t# check if better (e.g. perform a tournament)\n",
    "\t\tif scores[ix] < scores[selection_ix]:\n",
    "\t\t\tselection_ix = ix\n",
    "\treturn pop[selection_ix]\n",
    "\n",
    "# crossover two parents to create two children\n",
    "def crossover(p1, p2, r_cross):\n",
    "\t# children are copies of parents by default\n",
    "\tc1, c2 = p1.copy(), p2.copy()\n",
    "\t# check for recombination\n",
    "\tif rand() < r_cross:\n",
    "\t\t# select crossover point that is not on the end of the string\n",
    "\t\tpt = randint(1, len(p1)-2)\n",
    "\t\t# perform crossover\n",
    "\t\tc1 = p1[:pt] + p2[pt:]\n",
    "\t\tc2 = p2[:pt] + p1[pt:]\n",
    "\treturn [c1, c2]\n",
    "\n",
    "# mutation operator\n",
    "def mutation(bitstring, r_mut):\n",
    "\tfor i in range(len(bitstring)):\n",
    "\t\t# check for a mutation\n",
    "\t\tif rand() < r_mut:\n",
    "\t\t\t# flip the bit\n",
    "\t\t\tbitstring[i] = 1 - bitstring[i]\n",
    "\n",
    "# genetic algorithm\n",
    "def genetic_algorithm(objective, bounds, n_bits, n_iter, n_pop, r_cross, r_mut):\n",
    "\t# initial population of random bitstring\n",
    "\tpop = [randint(0, 2, n_bits*len(bounds)).tolist() for _ in range(n_pop)]\n",
    "\t# keep track of best solution\n",
    "\tbest, best_eval = 0, objective(decode(bounds, n_bits, pop[0]))\n",
    "\t# enumerate generations\n",
    "\tfor gen in range(n_iter):\n",
    "\t\t# decode population\n",
    "\t\tdecoded = [decode(bounds, n_bits, p) for p in pop]\n",
    "\t\t# evaluate all candidates in the population\n",
    "\t\tscores = [objective(d) for d in decoded]\n",
    "\t\t# check for new best solution\n",
    "\t\tfor i in range(n_pop):\n",
    "\t\t\tif scores[i] < best_eval:\n",
    "\t\t\t\tbest, best_eval = pop[i], scores[i]\n",
    "\t\t\t\tprint(\">%d, new best f(%s) = %f\" % (gen,  decoded[i], scores[i]))\n",
    "\t\t# select parents\n",
    "\t\tselected = [selection(pop, scores) for _ in range(n_pop)]\n",
    "\t\t# create the next generation\n",
    "\t\tchildren = list()\n",
    "\t\tfor i in range(0, n_pop, 2):\n",
    "\t\t\t# get selected parents in pairs\n",
    "\t\t\tp1, p2 = selected[i], selected[i+1]\n",
    "\t\t\t# crossover and mutation\n",
    "\t\t\tfor c in crossover(p1, p2, r_cross):\n",
    "\t\t\t\t# mutation\n",
    "\t\t\t\tmutation(c, r_mut)\n",
    "\t\t\t\t# store for next generation\n",
    "\t\t\t\tchildren.append(c)\n",
    "\t\t# replace population\n",
    "\t\tpop = children\n",
    "\treturn [best, best_eval]\n",
    "\n",
    "# define range for input\n",
    "bounds = [[-5.0, 5.0], [-5.0, 5.0]]\n",
    "# define the total iterations\n",
    "n_iter = 100\n",
    "# bits per variable\n",
    "n_bits = 16\n",
    "# define the population size\n",
    "n_pop = 100\n",
    "# crossover rate\n",
    "r_cross = 0.9\n",
    "# mutation rate\n",
    "r_mut = 1.0 / (float(n_bits) * len(bounds))\n",
    "# perform the genetic algorithm search\n",
    "best, score = genetic_algorithm(objective, bounds, n_bits, n_iter, n_pop, r_cross, r_mut)\n",
    "print('Done!')\n",
    "decoded = decode(bounds, n_bits, best)\n",
    "print('f(%s) = %f' % (decoded, score))"
   ]
  }
 ],
 "metadata": {
  "kernelspec": {
   "display_name": "opt",
   "language": "python",
   "name": "python3"
  },
  "language_info": {
   "codemirror_mode": {
    "name": "ipython",
    "version": 3
   },
   "file_extension": ".py",
   "mimetype": "text/x-python",
   "name": "python",
   "nbconvert_exporter": "python",
   "pygments_lexer": "ipython3",
   "version": "3.10.8"
  }
 },
 "nbformat": 4,
 "nbformat_minor": 2
}
