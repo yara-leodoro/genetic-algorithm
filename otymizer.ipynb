{
 "cells": [
  {
   "cell_type": "code",
   "execution_count": 1,
   "metadata": {},
   "outputs": [
    {
     "name": "stdout",
     "output_type": "stream",
     "text": [
      "Requirement already satisfied: opytimark in /home/iara/.virtualenvs/pos-graduaçao/lib/python3.8/site-packages (1.0.8)\n",
      "Requirement already satisfied: coverage>=5.5 in /home/iara/.virtualenvs/pos-graduaçao/lib/python3.8/site-packages (from opytimark) (7.6.1)\n",
      "Requirement already satisfied: numpy>=1.19.5 in /home/iara/.virtualenvs/pos-graduaçao/lib/python3.8/site-packages (from opytimark) (1.24.4)\n",
      "Requirement already satisfied: pre-commit>=2.17.0 in /home/iara/.virtualenvs/pos-graduaçao/lib/python3.8/site-packages (from opytimark) (3.5.0)\n",
      "Requirement already satisfied: pylint>=2.7.2 in /home/iara/.virtualenvs/pos-graduaçao/lib/python3.8/site-packages (from opytimark) (3.2.6)\n",
      "Requirement already satisfied: pytest>=6.2.2 in /home/iara/.virtualenvs/pos-graduaçao/lib/python3.8/site-packages (from opytimark) (8.3.2)\n",
      "Requirement already satisfied: cfgv>=2.0.0 in /home/iara/.virtualenvs/pos-graduaçao/lib/python3.8/site-packages (from pre-commit>=2.17.0->opytimark) (3.4.0)\n",
      "Requirement already satisfied: identify>=1.0.0 in /home/iara/.virtualenvs/pos-graduaçao/lib/python3.8/site-packages (from pre-commit>=2.17.0->opytimark) (2.6.0)\n",
      "Requirement already satisfied: nodeenv>=0.11.1 in /home/iara/.virtualenvs/pos-graduaçao/lib/python3.8/site-packages (from pre-commit>=2.17.0->opytimark) (1.9.1)\n",
      "Requirement already satisfied: pyyaml>=5.1 in /home/iara/.virtualenvs/pos-graduaçao/lib/python3.8/site-packages (from pre-commit>=2.17.0->opytimark) (6.0.2)\n",
      "Requirement already satisfied: virtualenv>=20.10.0 in /home/iara/.virtualenvs/pos-graduaçao/lib/python3.8/site-packages (from pre-commit>=2.17.0->opytimark) (20.26.3)\n",
      "Requirement already satisfied: platformdirs>=2.2.0 in /home/iara/.virtualenvs/pos-graduaçao/lib/python3.8/site-packages (from pylint>=2.7.2->opytimark) (4.2.2)\n",
      "Requirement already satisfied: astroid<=3.3.0-dev0,>=3.2.4 in /home/iara/.virtualenvs/pos-graduaçao/lib/python3.8/site-packages (from pylint>=2.7.2->opytimark) (3.2.4)\n",
      "Requirement already satisfied: isort!=5.13.0,<6,>=4.2.5 in /home/iara/.virtualenvs/pos-graduaçao/lib/python3.8/site-packages (from pylint>=2.7.2->opytimark) (5.13.2)\n",
      "Requirement already satisfied: mccabe<0.8,>=0.6 in /home/iara/.virtualenvs/pos-graduaçao/lib/python3.8/site-packages (from pylint>=2.7.2->opytimark) (0.7.0)\n",
      "Requirement already satisfied: tomlkit>=0.10.1 in /home/iara/.virtualenvs/pos-graduaçao/lib/python3.8/site-packages (from pylint>=2.7.2->opytimark) (0.13.2)\n",
      "Requirement already satisfied: typing-extensions>=3.10.0 in /home/iara/.virtualenvs/pos-graduaçao/lib/python3.8/site-packages (from pylint>=2.7.2->opytimark) (4.12.2)\n",
      "Requirement already satisfied: dill>=0.2 in /home/iara/.virtualenvs/pos-graduaçao/lib/python3.8/site-packages (from pylint>=2.7.2->opytimark) (0.3.8)\n",
      "Requirement already satisfied: tomli>=1.1.0 in /home/iara/.virtualenvs/pos-graduaçao/lib/python3.8/site-packages (from pylint>=2.7.2->opytimark) (2.0.1)\n",
      "Requirement already satisfied: iniconfig in /home/iara/.virtualenvs/pos-graduaçao/lib/python3.8/site-packages (from pytest>=6.2.2->opytimark) (2.0.0)\n",
      "Requirement already satisfied: packaging in /home/iara/.virtualenvs/pos-graduaçao/lib/python3.8/site-packages (from pytest>=6.2.2->opytimark) (24.1)\n",
      "Requirement already satisfied: pluggy<2,>=1.5 in /home/iara/.virtualenvs/pos-graduaçao/lib/python3.8/site-packages (from pytest>=6.2.2->opytimark) (1.5.0)\n",
      "Requirement already satisfied: exceptiongroup>=1.0.0rc8 in /home/iara/.virtualenvs/pos-graduaçao/lib/python3.8/site-packages (from pytest>=6.2.2->opytimark) (1.2.2)\n",
      "Requirement already satisfied: distlib<1,>=0.3.7 in /home/iara/.virtualenvs/pos-graduaçao/lib/python3.8/site-packages (from virtualenv>=20.10.0->pre-commit>=2.17.0->opytimark) (0.3.8)\n",
      "Requirement already satisfied: filelock<4,>=3.12.2 in /home/iara/.virtualenvs/pos-graduaçao/lib/python3.8/site-packages (from virtualenv>=20.10.0->pre-commit>=2.17.0->opytimark) (3.15.4)\n",
      "\n",
      "\u001b[1m[\u001b[0m\u001b[34;49mnotice\u001b[0m\u001b[1;39;49m]\u001b[0m\u001b[39;49m A new release of pip is available: \u001b[0m\u001b[31;49m24.0\u001b[0m\u001b[39;49m -> \u001b[0m\u001b[32;49m24.2\u001b[0m\n",
      "\u001b[1m[\u001b[0m\u001b[34;49mnotice\u001b[0m\u001b[1;39;49m]\u001b[0m\u001b[39;49m To update, run: \u001b[0m\u001b[32;49mpip install --upgrade pip\u001b[0m\n",
      "Note: you may need to restart the kernel to use updated packages.\n",
      "Requirement already satisfied: opytimizer in /home/iara/.virtualenvs/pos-graduaçao/lib/python3.8/site-packages (3.1.4)\n",
      "Requirement already satisfied: coverage>=5.5 in /home/iara/.virtualenvs/pos-graduaçao/lib/python3.8/site-packages (from opytimizer) (7.6.1)\n",
      "Requirement already satisfied: dill>=0.3.4 in /home/iara/.virtualenvs/pos-graduaçao/lib/python3.8/site-packages (from opytimizer) (0.3.8)\n",
      "Requirement already satisfied: matplotlib>=3.3.4 in /home/iara/.virtualenvs/pos-graduaçao/lib/python3.8/site-packages (from opytimizer) (3.7.5)\n",
      "Requirement already satisfied: networkx>=2.5.1 in /home/iara/.virtualenvs/pos-graduaçao/lib/python3.8/site-packages (from opytimizer) (3.1)\n",
      "Requirement already satisfied: numpy>=1.19.5 in /home/iara/.virtualenvs/pos-graduaçao/lib/python3.8/site-packages (from opytimizer) (1.24.4)\n",
      "Requirement already satisfied: opytimark>=1.0.7 in /home/iara/.virtualenvs/pos-graduaçao/lib/python3.8/site-packages (from opytimizer) (1.0.8)\n",
      "Requirement already satisfied: pre-commit>=2.17.0 in /home/iara/.virtualenvs/pos-graduaçao/lib/python3.8/site-packages (from opytimizer) (3.5.0)\n",
      "Requirement already satisfied: pylint>=2.7.2 in /home/iara/.virtualenvs/pos-graduaçao/lib/python3.8/site-packages (from opytimizer) (3.2.6)\n",
      "Requirement already satisfied: pytest>=6.2.2 in /home/iara/.virtualenvs/pos-graduaçao/lib/python3.8/site-packages (from opytimizer) (8.3.2)\n",
      "Requirement already satisfied: tqdm>=4.49.0 in /home/iara/.virtualenvs/pos-graduaçao/lib/python3.8/site-packages (from opytimizer) (4.66.5)\n",
      "Requirement already satisfied: contourpy>=1.0.1 in /home/iara/.virtualenvs/pos-graduaçao/lib/python3.8/site-packages (from matplotlib>=3.3.4->opytimizer) (1.1.1)\n",
      "Requirement already satisfied: cycler>=0.10 in /home/iara/.virtualenvs/pos-graduaçao/lib/python3.8/site-packages (from matplotlib>=3.3.4->opytimizer) (0.12.1)\n",
      "Requirement already satisfied: fonttools>=4.22.0 in /home/iara/.virtualenvs/pos-graduaçao/lib/python3.8/site-packages (from matplotlib>=3.3.4->opytimizer) (4.53.1)\n",
      "Requirement already satisfied: kiwisolver>=1.0.1 in /home/iara/.virtualenvs/pos-graduaçao/lib/python3.8/site-packages (from matplotlib>=3.3.4->opytimizer) (1.4.5)\n",
      "Requirement already satisfied: packaging>=20.0 in /home/iara/.virtualenvs/pos-graduaçao/lib/python3.8/site-packages (from matplotlib>=3.3.4->opytimizer) (24.1)\n",
      "Requirement already satisfied: pillow>=6.2.0 in /home/iara/.virtualenvs/pos-graduaçao/lib/python3.8/site-packages (from matplotlib>=3.3.4->opytimizer) (10.4.0)\n",
      "Requirement already satisfied: pyparsing>=2.3.1 in /home/iara/.virtualenvs/pos-graduaçao/lib/python3.8/site-packages (from matplotlib>=3.3.4->opytimizer) (3.1.2)\n",
      "Requirement already satisfied: python-dateutil>=2.7 in /home/iara/.virtualenvs/pos-graduaçao/lib/python3.8/site-packages (from matplotlib>=3.3.4->opytimizer) (2.9.0.post0)\n",
      "Requirement already satisfied: importlib-resources>=3.2.0 in /home/iara/.virtualenvs/pos-graduaçao/lib/python3.8/site-packages (from matplotlib>=3.3.4->opytimizer) (6.4.0)\n",
      "Requirement already satisfied: cfgv>=2.0.0 in /home/iara/.virtualenvs/pos-graduaçao/lib/python3.8/site-packages (from pre-commit>=2.17.0->opytimizer) (3.4.0)\n",
      "Requirement already satisfied: identify>=1.0.0 in /home/iara/.virtualenvs/pos-graduaçao/lib/python3.8/site-packages (from pre-commit>=2.17.0->opytimizer) (2.6.0)\n",
      "Requirement already satisfied: nodeenv>=0.11.1 in /home/iara/.virtualenvs/pos-graduaçao/lib/python3.8/site-packages (from pre-commit>=2.17.0->opytimizer) (1.9.1)\n",
      "Requirement already satisfied: pyyaml>=5.1 in /home/iara/.virtualenvs/pos-graduaçao/lib/python3.8/site-packages (from pre-commit>=2.17.0->opytimizer) (6.0.2)\n",
      "Requirement already satisfied: virtualenv>=20.10.0 in /home/iara/.virtualenvs/pos-graduaçao/lib/python3.8/site-packages (from pre-commit>=2.17.0->opytimizer) (20.26.3)\n",
      "Requirement already satisfied: platformdirs>=2.2.0 in /home/iara/.virtualenvs/pos-graduaçao/lib/python3.8/site-packages (from pylint>=2.7.2->opytimizer) (4.2.2)\n",
      "Requirement already satisfied: astroid<=3.3.0-dev0,>=3.2.4 in /home/iara/.virtualenvs/pos-graduaçao/lib/python3.8/site-packages (from pylint>=2.7.2->opytimizer) (3.2.4)\n",
      "Requirement already satisfied: isort!=5.13.0,<6,>=4.2.5 in /home/iara/.virtualenvs/pos-graduaçao/lib/python3.8/site-packages (from pylint>=2.7.2->opytimizer) (5.13.2)\n",
      "Requirement already satisfied: mccabe<0.8,>=0.6 in /home/iara/.virtualenvs/pos-graduaçao/lib/python3.8/site-packages (from pylint>=2.7.2->opytimizer) (0.7.0)\n",
      "Requirement already satisfied: tomlkit>=0.10.1 in /home/iara/.virtualenvs/pos-graduaçao/lib/python3.8/site-packages (from pylint>=2.7.2->opytimizer) (0.13.2)\n",
      "Requirement already satisfied: typing-extensions>=3.10.0 in /home/iara/.virtualenvs/pos-graduaçao/lib/python3.8/site-packages (from pylint>=2.7.2->opytimizer) (4.12.2)\n",
      "Requirement already satisfied: tomli>=1.1.0 in /home/iara/.virtualenvs/pos-graduaçao/lib/python3.8/site-packages (from pylint>=2.7.2->opytimizer) (2.0.1)\n",
      "Requirement already satisfied: iniconfig in /home/iara/.virtualenvs/pos-graduaçao/lib/python3.8/site-packages (from pytest>=6.2.2->opytimizer) (2.0.0)\n",
      "Requirement already satisfied: pluggy<2,>=1.5 in /home/iara/.virtualenvs/pos-graduaçao/lib/python3.8/site-packages (from pytest>=6.2.2->opytimizer) (1.5.0)\n",
      "Requirement already satisfied: exceptiongroup>=1.0.0rc8 in /home/iara/.virtualenvs/pos-graduaçao/lib/python3.8/site-packages (from pytest>=6.2.2->opytimizer) (1.2.2)\n",
      "Requirement already satisfied: zipp>=3.1.0 in /home/iara/.virtualenvs/pos-graduaçao/lib/python3.8/site-packages (from importlib-resources>=3.2.0->matplotlib>=3.3.4->opytimizer) (3.19.2)\n",
      "Requirement already satisfied: six>=1.5 in /home/iara/.virtualenvs/pos-graduaçao/lib/python3.8/site-packages (from python-dateutil>=2.7->matplotlib>=3.3.4->opytimizer) (1.16.0)\n",
      "Requirement already satisfied: distlib<1,>=0.3.7 in /home/iara/.virtualenvs/pos-graduaçao/lib/python3.8/site-packages (from virtualenv>=20.10.0->pre-commit>=2.17.0->opytimizer) (0.3.8)\n",
      "Requirement already satisfied: filelock<4,>=3.12.2 in /home/iara/.virtualenvs/pos-graduaçao/lib/python3.8/site-packages (from virtualenv>=20.10.0->pre-commit>=2.17.0->opytimizer) (3.15.4)\n",
      "\n",
      "\u001b[1m[\u001b[0m\u001b[34;49mnotice\u001b[0m\u001b[1;39;49m]\u001b[0m\u001b[39;49m A new release of pip is available: \u001b[0m\u001b[31;49m24.0\u001b[0m\u001b[39;49m -> \u001b[0m\u001b[32;49m24.2\u001b[0m\n",
      "\u001b[1m[\u001b[0m\u001b[34;49mnotice\u001b[0m\u001b[1;39;49m]\u001b[0m\u001b[39;49m To update, run: \u001b[0m\u001b[32;49mpip install --upgrade pip\u001b[0m\n",
      "Note: you may need to restart the kernel to use updated packages.\n"
     ]
    }
   ],
   "source": [
    "%pip install opytimark\n",
    "%pip install opytimizer"
   ]
  },
  {
   "cell_type": "markdown",
   "metadata": {},
   "source": [
    "Utilizando Opytimizer e PSO"
   ]
  },
  {
   "cell_type": "code",
   "execution_count": 2,
   "metadata": {},
   "outputs": [
    {
     "name": "stdout",
     "output_type": "stream",
     "text": [
      "2024-08-24 13:38:19,166 - opytimizer.spaces.search — INFO — Overriding class: Space -> SearchSpace.\n",
      "2024-08-24 13:38:19,167 - opytimizer.core.space — DEBUG — Agents: 20 | Size: (2, 1) | Lower Bound: [-10 -10] | Upper Bound: [10 10] | Mapping: ['x0', 'x1'] | Built: True.\n",
      "2024-08-24 13:38:19,168 - opytimizer.spaces.search — INFO — Class overrided.\n",
      "2024-08-24 13:38:19,168 - opytimizer.core.function — INFO — Creating class: Function.\n",
      "2024-08-24 13:38:19,169 - opytimizer.core.function — DEBUG — Function: Sphere | Built: True.\n",
      "2024-08-24 13:38:19,169 - opytimizer.core.function — INFO — Class created.\n",
      "2024-08-24 13:38:19,170 - opytimizer.optimizers.swarm.pso — INFO — Overriding class: Optimizer -> PSO.\n",
      "2024-08-24 13:38:19,170 - opytimizer.core.optimizer — DEBUG — Algorithm: PSO | Custom Parameters: None | Built: True.\n",
      "2024-08-24 13:38:19,171 - opytimizer.optimizers.swarm.pso — INFO — Class overrided.\n",
      "2024-08-24 13:38:19,171 - opytimizer.opytimizer — INFO — Creating class: Opytimizer.\n",
      "2024-08-24 13:38:19,172 - opytimizer.opytimizer — DEBUG — Space: <opytimizer.spaces.search.SearchSpace object at 0x7283d1cb5bb0> | Optimizer: <opytimizer.optimizers.swarm.pso.PSO object at 0x7283d1cb5d60>| Function: <opytimizer.core.function.Function object at 0x7283d1c92460>.\n",
      "2024-08-24 13:38:19,172 - opytimizer.opytimizer — INFO — Class created.\n",
      "2024-08-24 13:38:19,173 - opytimizer.opytimizer — INFO — Starting optimization task.\n"
     ]
    },
    {
     "name": "stderr",
     "output_type": "stream",
     "text": [
      "100%|##########| 100/100 [00:00<00:00, 475.01it/s, fitness=1.11e-11]"
     ]
    },
    {
     "name": "stdout",
     "output_type": "stream",
     "text": [
      "2024-08-24 13:38:19,386 - opytimizer.opytimizer — INFO — Optimization task ended.\n",
      "2024-08-24 13:38:19,387 - opytimizer.opytimizer — INFO — It took 0.2133042812347412 seconds.\n",
      "Best Agent: {'x0': array([2.9498388e-06]), 'x1': array([-1.55740815e-06])}| Fitness: 1.1127069097736604e-11\n"
     ]
    },
    {
     "name": "stderr",
     "output_type": "stream",
     "text": [
      "\n"
     ]
    }
   ],
   "source": [
    "import numpy as np\n",
    "from opytimark.markers.n_dimensional import Sphere\n",
    "from opytimizer.spaces import SearchSpace\n",
    "from opytimizer.core import Function\n",
    "from opytimizer.optimizers.swarm import PSO\n",
    "from opytimizer import Opytimizer\n",
    "\n",
    "\n",
    "n_agents = 20\n",
    "n_variables = 2\n",
    "lower_bound = [-10, -10]\n",
    "upper_bound = [10, 10]\n",
    "\n",
    "space = SearchSpace(n_agents, n_variables, lower_bound, upper_bound)\n",
    "function = Function(Sphere())\n",
    "optimizer = PSO()\n",
    "\n",
    "opt = Opytimizer(space, optimizer, function)\n",
    "\n",
    "opt.start(n_iterations=100)\n",
    "\n",
    "print(f\"Best Agent: {opt.space.best_agent.mapped_position}| Fitness: {opt.space.best_agent.fit}\")"
   ]
  },
  {
   "cell_type": "markdown",
   "metadata": {},
   "source": [
    "Utilizando Opytimizer e algoritmo genético"
   ]
  },
  {
   "cell_type": "code",
   "execution_count": 3,
   "metadata": {},
   "outputs": [
    {
     "name": "stdout",
     "output_type": "stream",
     "text": [
      "2024-08-24 13:38:19,405 - opytimizer.spaces.search — INFO — Overriding class: Space -> SearchSpace.\n",
      "2024-08-24 13:38:19,406 - opytimizer.core.space — DEBUG — Agents: 20 | Size: (2, 1) | Lower Bound: [-10 -10] | Upper Bound: [10 10] | Mapping: ['x0', 'x1'] | Built: True.\n",
      "2024-08-24 13:38:19,407 - opytimizer.spaces.search — INFO — Class overrided.\n",
      "2024-08-24 13:38:19,407 - opytimizer.core.function — INFO — Creating class: Function.\n",
      "2024-08-24 13:38:19,408 - opytimizer.core.function — DEBUG — Function: Sphere | Built: True.\n",
      "2024-08-24 13:38:19,408 - opytimizer.core.function — INFO — Class created.\n",
      "2024-08-24 13:38:19,408 - opytimizer.core.optimizer — DEBUG — Algorithm: GA | Custom Parameters: None | Built: True.\n",
      "2024-08-24 13:38:19,409 - opytimizer.optimizers.evolutionary.ga — INFO — Class overrided.\n",
      "2024-08-24 13:38:19,409 - opytimizer.opytimizer — INFO — Creating class: Opytimizer.\n",
      "2024-08-24 13:38:19,409 - opytimizer.opytimizer — DEBUG — Space: <opytimizer.spaces.search.SearchSpace object at 0x7283d1c28940> | Optimizer: <opytimizer.optimizers.evolutionary.ga.GA object at 0x7283bc28a4c0>| Function: <opytimizer.core.function.Function object at 0x7283bc28a610>.\n",
      "2024-08-24 13:38:19,410 - opytimizer.opytimizer — INFO — Class created.\n",
      "2024-08-24 13:38:19,410 - opytimizer.opytimizer — INFO — Starting optimization task.\n"
     ]
    },
    {
     "name": "stderr",
     "output_type": "stream",
     "text": [
      "100%|##########| 100/100 [00:00<00:00, 372.45it/s, fitness=6.91e-7]"
     ]
    },
    {
     "name": "stdout",
     "output_type": "stream",
     "text": [
      "2024-08-24 13:38:19,681 - opytimizer.opytimizer — INFO — Optimization task ended.\n",
      "2024-08-24 13:38:19,681 - opytimizer.opytimizer — INFO — It took 0.27016377449035645 seconds.\n"
     ]
    },
    {
     "name": "stderr",
     "output_type": "stream",
     "text": [
      "\n"
     ]
    },
    {
     "name": "stdout",
     "output_type": "stream",
     "text": [
      "Best Agent: {'x0': array([-0.00079067]), 'x1': array([-0.00025671])}| Fitness: 6.9105683883422e-07\n"
     ]
    }
   ],
   "source": [
    "import numpy as np\n",
    "from opytimark.markers.n_dimensional import Sphere\n",
    "from opytimizer.spaces import SearchSpace\n",
    "from opytimizer.core import Function\n",
    "from opytimizer.optimizers.evolutionary import GA\n",
    "from opytimizer import Opytimizer\n",
    "\n",
    "\n",
    "n_agents = 20\n",
    "n_variables = 2\n",
    "lower_bound = [-10, -10]\n",
    "upper_bound = [10, 10]\n",
    "\n",
    "space = SearchSpace(n_agents, n_variables, lower_bound, upper_bound)\n",
    "function = Function(Sphere())\n",
    "optimizer = GA()\n",
    "\n",
    "opt = Opytimizer(space, optimizer, function)\n",
    "\n",
    "opt.start(n_iterations=100)\n",
    "\n",
    "print(f\"Best Agent: {opt.space.best_agent.mapped_position}| Fitness: {opt.space.best_agent.fit}\")"
   ]
  },
  {
   "cell_type": "markdown",
   "metadata": {},
   "source": [
    "Utilizando restrições em PSO"
   ]
  },
  {
   "cell_type": "code",
   "execution_count": 5,
   "metadata": {},
   "outputs": [
    {
     "name": "stdout",
     "output_type": "stream",
     "text": [
      "2024-08-24 13:44:15,538 - opytimizer.spaces.search — INFO — Overriding class: Space -> SearchSpace.\n",
      "2024-08-24 13:44:15,541 - opytimizer.core.space — DEBUG — Agents: 20 | Size: (2, 1) | Lower Bound: [-10 -10] | Upper Bound: [10 10] | Mapping: ['x0', 'x1'] | Built: True.\n",
      "2024-08-24 13:44:15,546 - opytimizer.spaces.search — INFO — Class overrided.\n",
      "2024-08-24 13:44:15,547 - opytimizer.functions.constrained — INFO — Overriding class: Function -> ConstrainedFunction.\n",
      "2024-08-24 13:44:15,548 - opytimizer.core.function — INFO — Creating class: Function.\n",
      "2024-08-24 13:44:15,549 - opytimizer.core.function — DEBUG — Function: Sphere | Built: True.\n",
      "2024-08-24 13:44:15,549 - opytimizer.core.function — INFO — Class created.\n",
      "2024-08-24 13:44:15,550 - opytimizer.functions.constrained — DEBUG — Constraints: [<function c_1 at 0x7283bc1d4e50>] | Penalty: 100.0.\n",
      "2024-08-24 13:44:15,550 - opytimizer.functions.constrained — INFO — Class overrided.\n",
      "2024-08-24 13:44:15,551 - opytimizer.optimizers.swarm.pso — INFO — Overriding class: Optimizer -> PSO.\n",
      "2024-08-24 13:44:15,551 - opytimizer.core.optimizer — DEBUG — Algorithm: PSO | Custom Parameters: None | Built: True.\n",
      "2024-08-24 13:44:15,552 - opytimizer.optimizers.swarm.pso — INFO — Class overrided.\n",
      "2024-08-24 13:44:15,553 - opytimizer.opytimizer — INFO — Creating class: Opytimizer.\n",
      "2024-08-24 13:44:15,553 - opytimizer.opytimizer — DEBUG — Space: <opytimizer.spaces.search.SearchSpace object at 0x7283bc1d25e0> | Optimizer: <opytimizer.optimizers.swarm.pso.PSO object at 0x7283bc22fc70>| Function: <opytimizer.functions.constrained.ConstrainedFunction object at 0x7283bc29fdc0>.\n",
      "2024-08-24 13:44:15,554 - opytimizer.opytimizer — INFO — Class created.\n",
      "2024-08-24 13:44:15,554 - opytimizer.opytimizer — INFO — Starting optimization task.\n"
     ]
    },
    {
     "name": "stderr",
     "output_type": "stream",
     "text": [
      "100%|##########| 1000/1000 [00:02<00:00, 454.08it/s, fitness=2.41e-88]"
     ]
    },
    {
     "name": "stdout",
     "output_type": "stream",
     "text": [
      "2024-08-24 13:44:17,760 - opytimizer.opytimizer — INFO — Optimization task ended.\n",
      "2024-08-24 13:44:17,760 - opytimizer.opytimizer — INFO — It took 2.204741954803467 seconds.\n",
      "Best Agent: {'x0': array([-9.10389382e-45]), 'x1': array([-1.25643839e-44])}| Fitness: 2.4074462617837065e-88\n"
     ]
    },
    {
     "name": "stderr",
     "output_type": "stream",
     "text": [
      "\n"
     ]
    }
   ],
   "source": [
    "import numpy as np\n",
    "\n",
    "from opytimizer.functions import ConstrainedFunction\n",
    "from opytimark.markers.n_dimensional import Sphere\n",
    "from opytimizer.spaces import SearchSpace\n",
    "from opytimizer.optimizers.swarm import PSO\n",
    "from opytimizer import Opytimizer\n",
    "\n",
    "np.random.seed(0)\n",
    "\n",
    "def c_1(x):\n",
    "    return x[0] + x[1] < 0\n",
    "\n",
    "n_agents = 20\n",
    "n_variables = 2\n",
    "lower_bound = [-10, -10]\n",
    "upper_bound = [10, 10]\n",
    "\n",
    "space = SearchSpace(n_agents, n_variables, lower_bound, upper_bound)\n",
    "function = ConstrainedFunction(Sphere(), [c_1], penalty=100.0)\n",
    "optimizer = PSO()\n",
    "\n",
    "opt = Opytimizer(space, optimizer, function)\n",
    "\n",
    "opt.start(n_iterations=1000)\n",
    "\n",
    "print(f\"Best Agent: {opt.space.best_agent.mapped_position}| Fitness: {opt.space.best_agent.fit}\")"
   ]
  }
 ],
 "metadata": {
  "kernelspec": {
   "display_name": "pos-graduaçao",
   "language": "python",
   "name": "python3"
  },
  "language_info": {
   "codemirror_mode": {
    "name": "ipython",
    "version": 3
   },
   "file_extension": ".py",
   "mimetype": "text/x-python",
   "name": "python",
   "nbconvert_exporter": "python",
   "pygments_lexer": "ipython3",
   "version": "3.8.19"
  }
 },
 "nbformat": 4,
 "nbformat_minor": 2
}
